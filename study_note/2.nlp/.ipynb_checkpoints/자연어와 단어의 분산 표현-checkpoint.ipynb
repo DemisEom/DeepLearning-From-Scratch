{
 "cells": [
  {
   "cell_type": "markdown",
   "metadata": {},
   "source": [
    "# 용어들"
   ]
  },
  {
   "cell_type": "markdown",
   "metadata": {},
   "source": [
    "## 시소러스?thesaurus!  \n",
    "-단어의 의미를 사전이 아니라 일종의 유의어 사전처럼 구성하는 것.  \n",
    "-예를 들어, 자동차 = 자동, 차, 기계  \n",
    "-이것을 그래프, 트리 형식으로 표현하면 단어의 관계를 알수 있고, 컴퓨터에게도 단어를 알수있다(?)고 할수 있음."
   ]
  },
  {
   "cell_type": "markdown",
   "metadata": {},
   "source": [
    "## 시소러스의 문제점?  \n",
    "-시대의 변화에 대응하기 어렵다. 즉, 다양한 단어들이 나타나기 때문에 그런 단어들의 관계를 다시 표현해야함.  \n",
    "-사람이 수작업이 들어가야하기 때문에 휴먼 리소스가 크다.  \n",
    "-유의어로 구성되어 있기때문에 그 단어들 사이의 비묘한 차이들까지는 표현하기 어렵다."
   ]
  },
  {
   "cell_type": "markdown",
   "metadata": {},
   "source": [
    "## corpus(말뭉치)  \n",
    "-쉽게 말해서 대량의 텍스트 데이터.  \n",
    "-사람들은 통계적 기법을 통해서 코퍼스에서 단어들 사이의 관게를 자동으로 표현하고 싶어함."
   ]
  },
  {
   "cell_type": "markdown",
   "metadata": {},
   "source": [
    "# python으로 코퍼스 전처리하기"
   ]
  },
  {
   "cell_type": "code",
   "execution_count": 18,
   "metadata": {
    "collapsed": true
   },
   "outputs": [],
   "source": [
    "\n",
    "text = 'You say goodbye and I say hello.'"
   ]
  },
  {
   "cell_type": "code",
   "execution_count": 7,
   "metadata": {
    "collapsed": true
   },
   "outputs": [],
   "source": [
    "text = text.lower()\n",
    "text = text.replace('.','..')"
   ]
  },
  {
   "cell_type": "code",
   "execution_count": 8,
   "metadata": {},
   "outputs": [
    {
     "data": {
      "text/plain": [
       "'you say goodbye and i say hello..'"
      ]
     },
     "execution_count": 8,
     "metadata": {},
     "output_type": "execute_result"
    }
   ],
   "source": [
    "text"
   ]
  },
  {
   "cell_type": "code",
   "execution_count": 10,
   "metadata": {},
   "outputs": [
    {
     "data": {
      "text/plain": [
       "['you', 'say', 'goodbye', 'and', 'i', 'say', 'hello..']"
      ]
     },
     "execution_count": 10,
     "metadata": {},
     "output_type": "execute_result"
    }
   ],
   "source": [
    "words = text.split()\n",
    "words"
   ]
  },
  {
   "cell_type": "code",
   "execution_count": 15,
   "metadata": {},
   "outputs": [
    {
     "data": {
      "text/plain": [
       "{0: 'you', 1: 'say', 2: 'goodbye', 3: 'and', 4: 'i', 5: 'hello..'}"
      ]
     },
     "execution_count": 15,
     "metadata": {},
     "output_type": "execute_result"
    }
   ],
   "source": [
    "word_to_id = {}\n",
    "id_to_word = {}\n",
    "\n",
    "for word in words:\n",
    "    if word not in word_to_id:\n",
    "        new_id = len(word_to_id)\n",
    "        word_to_id[word]=new_id\n",
    "        id_to_word[new_id]=word\n",
    "\n",
    "word_to_id\n",
    "id_to_word"
   ]
  },
  {
   "cell_type": "code",
   "execution_count": 17,
   "metadata": {
    "collapsed": true
   },
   "outputs": [],
   "source": [
    "def preprocess(text):\n",
    "    text = text.lower()\n",
    "    text = text.replace('.',' .')\n",
    "    \n",
    "    word_to_id = {}\n",
    "    id_to_word = {}\n",
    "\n",
    "    for word in words:\n",
    "        if word not in word_to_id:\n",
    "            new_id = len(word_to_id)\n",
    "            word_to_id[word]=new_id\n",
    "            id_to_word[new_id]=word\n",
    "    corpus = np.array([word_to_id[w] for w in words])\n",
    "    return corpus, word_to_id, id_to_word\n",
    "    \n",
    "    \n",
    "    "
   ]
  },
  {
   "cell_type": "markdown",
   "metadata": {},
   "source": [
    "## 단어의 분산표현  \n",
    "-색을 표현하는 단어가 여러가지임. 하지만 그 색들도 RGB의 값 조합으로 나타낼수 있듯이 단어들도 그렇게 표현해보고자 하는것.  \n",
    "  \n",
    "분산가설  \n",
    "-단어의 의미는 주변단어에의해 형성된다.맥락!  "
   ]
  },
  {
   "cell_type": "markdown",
   "metadata": {},
   "source": [
    "## 동시발생 행렬  \n",
    "-가장 간단한 방법으로 특정 단어의 주변에 어떤 단어들이 얼마나 나왔는지를 통계내보는것.  \n",
    "-예를들어, you say goodbye and i say hello.라는 문장이 있을떄.  \n",
    "say = [1,0, 1, 0, 1, 1, 0] 으로 나타낼수 있음."
   ]
  },
  {
   "cell_type": "code",
   "execution_count": 19,
   "metadata": {
    "collapsed": true
   },
   "outputs": [],
   "source": [
    "import numpy as np"
   ]
  },
  {
   "cell_type": "code",
   "execution_count": 23,
   "metadata": {
    "collapsed": true
   },
   "outputs": [],
   "source": [
    "def create_co_matrix(corpus, vocab_size, window_size=1):\n",
    "    corpus_size = len(corpus)\n",
    "    co_matrix = np.zeros((vocab_size, vocab_size),dtype=np.int32)\n",
    "    \n",
    "    for idx, word_id in enumerate(corpus):\n",
    "        for i in range(1, window_size+1):\n",
    "            left_idx = idx - i\n",
    "            right_idx = idx + 1\n",
    "            \n",
    "            if left_idx >= 0 :\n",
    "                left_word_id = corpus[left_idx]\n",
    "                co_matrix[word_id, left_word_id] +=1\n",
    "                \n",
    "            if right_idx < corpus_size:\n",
    "                right_word_id = corpus[right_idx]\n",
    "                co_matrix[word_id, right_word_id] +=1\n",
    "    return co_matrix\n",
    "        \n",
    "        "
   ]
  },
  {
   "cell_type": "markdown",
   "metadata": {},
   "source": [
    "## 백터간 유사도 - 코사인 유사도  \n",
    "-0으로 나눠지는 경우에 대비해서 입실론, 아주작은값을 더해준다"
   ]
  },
  {
   "cell_type": "code",
   "execution_count": 25,
   "metadata": {
    "collapsed": true
   },
   "outputs": [],
   "source": [
    "def cos_similarity(x,y, eps=1e-8):\n",
    "    nx = x/(np.sqrt(np.sum(x**2))+eps)\n",
    "    ny = y/(np.sqrt(np.sum(y**2))+eps)\n",
    "    return np.dot(nx, ny)"
   ]
  },
  {
   "cell_type": "markdown",
   "metadata": {
    "collapsed": true
   },
   "source": [
    "## 상호정보량  \n",
    "-발생확률만으로는 부족함.  \n",
    "-예를들어 the같은 경우에는 관련성보다는 많이 출현하는것때문에 형렬에 자주 나타나게 됨.  \n",
    "-이것을 해결하기 위한 방법이 PMI!  \n",
    "logp(x,y)/p(x)p(y)  \n",
    "-근데 위와 마찬가지로 0값을 가질때 무한대의 값이 나오게 되므로 ppmi를 사용.  \n",
    "PPMI(x,y) = max(0, pmi(x,y))"
   ]
  },
  {
   "cell_type": "markdown",
   "metadata": {},
   "source": [
    "## 차원 감소  \n",
    "-데이터의 차원을 중요한 정보는 살리면서 줄이는것. 예시로 SVD, PCA등등..."
   ]
  }
 ],
 "metadata": {
  "kernelspec": {
   "display_name": "Python 3",
   "language": "python",
   "name": "python3"
  },
  "language_info": {
   "codemirror_mode": {
    "name": "ipython",
    "version": 3
   },
   "file_extension": ".py",
   "mimetype": "text/x-python",
   "name": "python",
   "nbconvert_exporter": "python",
   "pygments_lexer": "ipython3",
   "version": "3.6.8"
  }
 },
 "nbformat": 4,
 "nbformat_minor": 2
}
